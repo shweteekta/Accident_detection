{
  "nbformat": 4,
  "nbformat_minor": 0,
  "metadata": {
    "kernelspec": {
      "display_name": "Python 3",
      "language": "python",
      "name": "python3"
    },
    "language_info": {
      "codemirror_mode": {
        "name": "ipython",
        "version": 3
      },
      "file_extension": ".py",
      "mimetype": "text/x-python",
      "name": "python",
      "nbconvert_exporter": "python",
      "pygments_lexer": "ipython3",
      "version": "3.8.5"
    },
    "colab": {
      "name": "accidentdetection.ipynb",
      "provenance": [],
      "include_colab_link": true
    }
  },
  "cells": [
    {
      "cell_type": "markdown",
      "metadata": {
        "id": "view-in-github",
        "colab_type": "text"
      },
      "source": [
        "<a href=\"https://colab.research.google.com/github/shweteekta/Accident_detection/blob/main/accidentdetection.ipynb\" target=\"_parent\"><img src=\"https://colab.research.google.com/assets/colab-badge.svg\" alt=\"Open In Colab\"/></a>"
      ]
    },
    {
      "cell_type": "code",
      "metadata": {
        "id": "bio4DO3jWmY2"
      },
      "source": [
        "import os\n",
        "\n",
        "import pandas as pd\n",
        "import numpy as np\n",
        "import os\n",
        "import tensorflow as tf\n",
        "import cv2\n",
        "\n",
        "\n"
      ],
      "execution_count": 1,
      "outputs": []
    },
    {
      "cell_type": "code",
      "metadata": {
        "id": "bzBEh8pInTFe",
        "colab": {
          "base_uri": "https://localhost:8080/"
        },
        "outputId": "c6f8cf7e-cf0f-461d-ef5b-1cbae3e4fc9e"
      },
      "source": [
        "!wget -O data.csv https://raw.githubusercontent.com/shweteekta/Accident_detection/main/imgdata1.csv\r\n",
        "!wget -O data1.csv https://raw.githubusercontent.com/shweteekta/Accident_detection/main/imgdata3.csv"
      ],
      "execution_count": 2,
      "outputs": [
        {
          "output_type": "stream",
          "text": [
            "--2021-03-09 12:21:01--  https://raw.githubusercontent.com/shweteekta/Accident_detection/main/imgdata1.csv\n",
            "Resolving raw.githubusercontent.com (raw.githubusercontent.com)... 185.199.109.133, 185.199.110.133, 185.199.108.133, ...\n",
            "Connecting to raw.githubusercontent.com (raw.githubusercontent.com)|185.199.109.133|:443... connected.\n",
            "HTTP request sent, awaiting response... 200 OK\n",
            "Length: 13878007 (13M) [text/plain]\n",
            "Saving to: ‘data.csv’\n",
            "\n",
            "data.csv            100%[===================>]  13.23M  47.6MB/s    in 0.3s    \n",
            "\n",
            "2021-03-09 12:21:01 (47.6 MB/s) - ‘data.csv’ saved [13878007/13878007]\n",
            "\n",
            "--2021-03-09 12:21:01--  https://raw.githubusercontent.com/shweteekta/Accident_detection/main/imgdata3.csv\n",
            "Resolving raw.githubusercontent.com (raw.githubusercontent.com)... 185.199.108.133, 185.199.109.133, 185.199.110.133, ...\n",
            "Connecting to raw.githubusercontent.com (raw.githubusercontent.com)|185.199.108.133|:443... connected.\n",
            "HTTP request sent, awaiting response... 200 OK\n",
            "Length: 14107541 (13M) [text/plain]\n",
            "Saving to: ‘data1.csv’\n",
            "\n",
            "data1.csv           100%[===================>]  13.45M  35.1MB/s    in 0.4s    \n",
            "\n",
            "2021-03-09 12:21:02 (35.1 MB/s) - ‘data1.csv’ saved [14107541/14107541]\n",
            "\n"
          ],
          "name": "stdout"
        }
      ]
    },
    {
      "cell_type": "code",
      "metadata": {
        "id": "CWHcS--WCKpG"
      },
      "source": [
        "data=pd.read_csv(\"data1.csv\")"
      ],
      "execution_count": 3,
      "outputs": []
    },
    {
      "cell_type": "code",
      "metadata": {
        "colab": {
          "base_uri": "https://localhost:8080/",
          "height": 270
        },
        "id": "e8Tr5tnvCOQd",
        "outputId": "5f498e85-549f-4b5b-86df-f9dd9dad681c"
      },
      "source": [
        "data.head()"
      ],
      "execution_count": 4,
      "outputs": [
        {
          "output_type": "execute_result",
          "data": {
            "text/html": [
              "<div>\n",
              "<style scoped>\n",
              "    .dataframe tbody tr th:only-of-type {\n",
              "        vertical-align: middle;\n",
              "    }\n",
              "\n",
              "    .dataframe tbody tr th {\n",
              "        vertical-align: top;\n",
              "    }\n",
              "\n",
              "    .dataframe thead th {\n",
              "        text-align: right;\n",
              "    }\n",
              "</style>\n",
              "<table border=\"1\" class=\"dataframe\">\n",
              "  <thead>\n",
              "    <tr style=\"text-align: right;\">\n",
              "      <th></th>\n",
              "      <th>Unnamed: 0</th>\n",
              "      <th>146</th>\n",
              "      <th>180</th>\n",
              "      <th>182</th>\n",
              "      <th>176</th>\n",
              "      <th>197</th>\n",
              "      <th>206</th>\n",
              "      <th>204</th>\n",
              "      <th>214</th>\n",
              "      <th>197.1</th>\n",
              "      <th>172</th>\n",
              "      <th>173</th>\n",
              "      <th>188</th>\n",
              "      <th>208</th>\n",
              "      <th>193</th>\n",
              "      <th>193.1</th>\n",
              "      <th>218</th>\n",
              "      <th>124</th>\n",
              "      <th>69</th>\n",
              "      <th>71</th>\n",
              "      <th>65</th>\n",
              "      <th>72</th>\n",
              "      <th>98</th>\n",
              "      <th>166</th>\n",
              "      <th>235</th>\n",
              "      <th>239</th>\n",
              "      <th>236</th>\n",
              "      <th>223</th>\n",
              "      <th>237</th>\n",
              "      <th>131</th>\n",
              "      <th>147</th>\n",
              "      <th>162</th>\n",
              "      <th>145</th>\n",
              "      <th>157</th>\n",
              "      <th>126</th>\n",
              "      <th>156</th>\n",
              "      <th>178</th>\n",
              "      <th>153</th>\n",
              "      <th>143</th>\n",
              "      <th>149</th>\n",
              "      <th>...</th>\n",
              "      <th>40.2</th>\n",
              "      <th>33</th>\n",
              "      <th>34.2</th>\n",
              "      <th>40.3</th>\n",
              "      <th>51.6</th>\n",
              "      <th>63.6</th>\n",
              "      <th>74.3</th>\n",
              "      <th>85.3</th>\n",
              "      <th>93.3</th>\n",
              "      <th>100.3</th>\n",
              "      <th>107.4</th>\n",
              "      <th>116.8</th>\n",
              "      <th>118.4</th>\n",
              "      <th>115.7</th>\n",
              "      <th>113.5</th>\n",
              "      <th>114.5</th>\n",
              "      <th>114.6</th>\n",
              "      <th>114.7</th>\n",
              "      <th>114.8</th>\n",
              "      <th>113.6</th>\n",
              "      <th>106.3</th>\n",
              "      <th>106.4</th>\n",
              "      <th>101.1</th>\n",
              "      <th>99.6</th>\n",
              "      <th>98.4</th>\n",
              "      <th>96.4</th>\n",
              "      <th>90.5</th>\n",
              "      <th>84.5</th>\n",
              "      <th>81.2</th>\n",
              "      <th>77.6</th>\n",
              "      <th>75.3</th>\n",
              "      <th>81.3</th>\n",
              "      <th>87.2</th>\n",
              "      <th>91.3</th>\n",
              "      <th>94.6</th>\n",
              "      <th>100.4</th>\n",
              "      <th>104.12</th>\n",
              "      <th>109.5</th>\n",
              "      <th>111.7</th>\n",
              "      <th>class</th>\n",
              "    </tr>\n",
              "  </thead>\n",
              "  <tbody>\n",
              "    <tr>\n",
              "      <th>0</th>\n",
              "      <td>0</td>\n",
              "      <td>91</td>\n",
              "      <td>134</td>\n",
              "      <td>38</td>\n",
              "      <td>83</td>\n",
              "      <td>27</td>\n",
              "      <td>35</td>\n",
              "      <td>109</td>\n",
              "      <td>138</td>\n",
              "      <td>172</td>\n",
              "      <td>199</td>\n",
              "      <td>185</td>\n",
              "      <td>120</td>\n",
              "      <td>55</td>\n",
              "      <td>52</td>\n",
              "      <td>40</td>\n",
              "      <td>36</td>\n",
              "      <td>36</td>\n",
              "      <td>35</td>\n",
              "      <td>42</td>\n",
              "      <td>35</td>\n",
              "      <td>47</td>\n",
              "      <td>56</td>\n",
              "      <td>51</td>\n",
              "      <td>29</td>\n",
              "      <td>40</td>\n",
              "      <td>68</td>\n",
              "      <td>51</td>\n",
              "      <td>81</td>\n",
              "      <td>145</td>\n",
              "      <td>175</td>\n",
              "      <td>76</td>\n",
              "      <td>94</td>\n",
              "      <td>106</td>\n",
              "      <td>137</td>\n",
              "      <td>173</td>\n",
              "      <td>179</td>\n",
              "      <td>182</td>\n",
              "      <td>179</td>\n",
              "      <td>181</td>\n",
              "      <td>...</td>\n",
              "      <td>66</td>\n",
              "      <td>78</td>\n",
              "      <td>80</td>\n",
              "      <td>73</td>\n",
              "      <td>74</td>\n",
              "      <td>72</td>\n",
              "      <td>66</td>\n",
              "      <td>61</td>\n",
              "      <td>65</td>\n",
              "      <td>65</td>\n",
              "      <td>61</td>\n",
              "      <td>76</td>\n",
              "      <td>70</td>\n",
              "      <td>69</td>\n",
              "      <td>71</td>\n",
              "      <td>73</td>\n",
              "      <td>73</td>\n",
              "      <td>70</td>\n",
              "      <td>75</td>\n",
              "      <td>75</td>\n",
              "      <td>71</td>\n",
              "      <td>56</td>\n",
              "      <td>50</td>\n",
              "      <td>53</td>\n",
              "      <td>57</td>\n",
              "      <td>62</td>\n",
              "      <td>66</td>\n",
              "      <td>70</td>\n",
              "      <td>73</td>\n",
              "      <td>76</td>\n",
              "      <td>77</td>\n",
              "      <td>80</td>\n",
              "      <td>81</td>\n",
              "      <td>76</td>\n",
              "      <td>65</td>\n",
              "      <td>60</td>\n",
              "      <td>58</td>\n",
              "      <td>50</td>\n",
              "      <td>47</td>\n",
              "      <td>0</td>\n",
              "    </tr>\n",
              "    <tr>\n",
              "      <th>1</th>\n",
              "      <td>1</td>\n",
              "      <td>200</td>\n",
              "      <td>201</td>\n",
              "      <td>202</td>\n",
              "      <td>202</td>\n",
              "      <td>203</td>\n",
              "      <td>204</td>\n",
              "      <td>204</td>\n",
              "      <td>202</td>\n",
              "      <td>199</td>\n",
              "      <td>201</td>\n",
              "      <td>205</td>\n",
              "      <td>209</td>\n",
              "      <td>217</td>\n",
              "      <td>213</td>\n",
              "      <td>201</td>\n",
              "      <td>205</td>\n",
              "      <td>215</td>\n",
              "      <td>214</td>\n",
              "      <td>211</td>\n",
              "      <td>215</td>\n",
              "      <td>212</td>\n",
              "      <td>204</td>\n",
              "      <td>200</td>\n",
              "      <td>199</td>\n",
              "      <td>197</td>\n",
              "      <td>220</td>\n",
              "      <td>220</td>\n",
              "      <td>208</td>\n",
              "      <td>199</td>\n",
              "      <td>198</td>\n",
              "      <td>199</td>\n",
              "      <td>200</td>\n",
              "      <td>201</td>\n",
              "      <td>200</td>\n",
              "      <td>201</td>\n",
              "      <td>202</td>\n",
              "      <td>201</td>\n",
              "      <td>200</td>\n",
              "      <td>202</td>\n",
              "      <td>...</td>\n",
              "      <td>107</td>\n",
              "      <td>108</td>\n",
              "      <td>109</td>\n",
              "      <td>110</td>\n",
              "      <td>109</td>\n",
              "      <td>107</td>\n",
              "      <td>105</td>\n",
              "      <td>102</td>\n",
              "      <td>101</td>\n",
              "      <td>101</td>\n",
              "      <td>101</td>\n",
              "      <td>91</td>\n",
              "      <td>93</td>\n",
              "      <td>95</td>\n",
              "      <td>97</td>\n",
              "      <td>100</td>\n",
              "      <td>106</td>\n",
              "      <td>110</td>\n",
              "      <td>113</td>\n",
              "      <td>113</td>\n",
              "      <td>109</td>\n",
              "      <td>108</td>\n",
              "      <td>107</td>\n",
              "      <td>107</td>\n",
              "      <td>107</td>\n",
              "      <td>107</td>\n",
              "      <td>109</td>\n",
              "      <td>110</td>\n",
              "      <td>107</td>\n",
              "      <td>105</td>\n",
              "      <td>104</td>\n",
              "      <td>104</td>\n",
              "      <td>104</td>\n",
              "      <td>104</td>\n",
              "      <td>104</td>\n",
              "      <td>102</td>\n",
              "      <td>100</td>\n",
              "      <td>98</td>\n",
              "      <td>96</td>\n",
              "      <td>0</td>\n",
              "    </tr>\n",
              "    <tr>\n",
              "      <th>2</th>\n",
              "      <td>2</td>\n",
              "      <td>111</td>\n",
              "      <td>111</td>\n",
              "      <td>154</td>\n",
              "      <td>203</td>\n",
              "      <td>235</td>\n",
              "      <td>254</td>\n",
              "      <td>254</td>\n",
              "      <td>254</td>\n",
              "      <td>253</td>\n",
              "      <td>252</td>\n",
              "      <td>252</td>\n",
              "      <td>252</td>\n",
              "      <td>250</td>\n",
              "      <td>245</td>\n",
              "      <td>241</td>\n",
              "      <td>241</td>\n",
              "      <td>178</td>\n",
              "      <td>136</td>\n",
              "      <td>137</td>\n",
              "      <td>169</td>\n",
              "      <td>195</td>\n",
              "      <td>197</td>\n",
              "      <td>115</td>\n",
              "      <td>62</td>\n",
              "      <td>140</td>\n",
              "      <td>144</td>\n",
              "      <td>164</td>\n",
              "      <td>230</td>\n",
              "      <td>174</td>\n",
              "      <td>171</td>\n",
              "      <td>135</td>\n",
              "      <td>112</td>\n",
              "      <td>124</td>\n",
              "      <td>167</td>\n",
              "      <td>207</td>\n",
              "      <td>237</td>\n",
              "      <td>250</td>\n",
              "      <td>252</td>\n",
              "      <td>249</td>\n",
              "      <td>...</td>\n",
              "      <td>139</td>\n",
              "      <td>139</td>\n",
              "      <td>136</td>\n",
              "      <td>135</td>\n",
              "      <td>138</td>\n",
              "      <td>141</td>\n",
              "      <td>142</td>\n",
              "      <td>142</td>\n",
              "      <td>141</td>\n",
              "      <td>139</td>\n",
              "      <td>137</td>\n",
              "      <td>141</td>\n",
              "      <td>143</td>\n",
              "      <td>142</td>\n",
              "      <td>144</td>\n",
              "      <td>144</td>\n",
              "      <td>146</td>\n",
              "      <td>146</td>\n",
              "      <td>144</td>\n",
              "      <td>144</td>\n",
              "      <td>145</td>\n",
              "      <td>144</td>\n",
              "      <td>144</td>\n",
              "      <td>142</td>\n",
              "      <td>144</td>\n",
              "      <td>143</td>\n",
              "      <td>144</td>\n",
              "      <td>145</td>\n",
              "      <td>146</td>\n",
              "      <td>145</td>\n",
              "      <td>144</td>\n",
              "      <td>146</td>\n",
              "      <td>147</td>\n",
              "      <td>145</td>\n",
              "      <td>144</td>\n",
              "      <td>143</td>\n",
              "      <td>144</td>\n",
              "      <td>142</td>\n",
              "      <td>141</td>\n",
              "      <td>0</td>\n",
              "    </tr>\n",
              "    <tr>\n",
              "      <th>3</th>\n",
              "      <td>3</td>\n",
              "      <td>46</td>\n",
              "      <td>58</td>\n",
              "      <td>65</td>\n",
              "      <td>111</td>\n",
              "      <td>140</td>\n",
              "      <td>124</td>\n",
              "      <td>123</td>\n",
              "      <td>110</td>\n",
              "      <td>77</td>\n",
              "      <td>69</td>\n",
              "      <td>72</td>\n",
              "      <td>95</td>\n",
              "      <td>77</td>\n",
              "      <td>88</td>\n",
              "      <td>90</td>\n",
              "      <td>76</td>\n",
              "      <td>78</td>\n",
              "      <td>109</td>\n",
              "      <td>86</td>\n",
              "      <td>98</td>\n",
              "      <td>90</td>\n",
              "      <td>102</td>\n",
              "      <td>89</td>\n",
              "      <td>84</td>\n",
              "      <td>111</td>\n",
              "      <td>89</td>\n",
              "      <td>110</td>\n",
              "      <td>159</td>\n",
              "      <td>56</td>\n",
              "      <td>56</td>\n",
              "      <td>51</td>\n",
              "      <td>84</td>\n",
              "      <td>139</td>\n",
              "      <td>119</td>\n",
              "      <td>130</td>\n",
              "      <td>106</td>\n",
              "      <td>67</td>\n",
              "      <td>78</td>\n",
              "      <td>69</td>\n",
              "      <td>...</td>\n",
              "      <td>103</td>\n",
              "      <td>101</td>\n",
              "      <td>101</td>\n",
              "      <td>103</td>\n",
              "      <td>104</td>\n",
              "      <td>103</td>\n",
              "      <td>102</td>\n",
              "      <td>103</td>\n",
              "      <td>104</td>\n",
              "      <td>103</td>\n",
              "      <td>102</td>\n",
              "      <td>101</td>\n",
              "      <td>92</td>\n",
              "      <td>93</td>\n",
              "      <td>95</td>\n",
              "      <td>88</td>\n",
              "      <td>90</td>\n",
              "      <td>97</td>\n",
              "      <td>94</td>\n",
              "      <td>89</td>\n",
              "      <td>90</td>\n",
              "      <td>96</td>\n",
              "      <td>88</td>\n",
              "      <td>90</td>\n",
              "      <td>90</td>\n",
              "      <td>98</td>\n",
              "      <td>101</td>\n",
              "      <td>102</td>\n",
              "      <td>102</td>\n",
              "      <td>101</td>\n",
              "      <td>102</td>\n",
              "      <td>102</td>\n",
              "      <td>102</td>\n",
              "      <td>101</td>\n",
              "      <td>102</td>\n",
              "      <td>104</td>\n",
              "      <td>103</td>\n",
              "      <td>102</td>\n",
              "      <td>101</td>\n",
              "      <td>0</td>\n",
              "    </tr>\n",
              "    <tr>\n",
              "      <th>4</th>\n",
              "      <td>4</td>\n",
              "      <td>231</td>\n",
              "      <td>232</td>\n",
              "      <td>233</td>\n",
              "      <td>234</td>\n",
              "      <td>234</td>\n",
              "      <td>235</td>\n",
              "      <td>235</td>\n",
              "      <td>235</td>\n",
              "      <td>234</td>\n",
              "      <td>233</td>\n",
              "      <td>236</td>\n",
              "      <td>236</td>\n",
              "      <td>236</td>\n",
              "      <td>236</td>\n",
              "      <td>236</td>\n",
              "      <td>236</td>\n",
              "      <td>236</td>\n",
              "      <td>236</td>\n",
              "      <td>236</td>\n",
              "      <td>230</td>\n",
              "      <td>231</td>\n",
              "      <td>220</td>\n",
              "      <td>225</td>\n",
              "      <td>235</td>\n",
              "      <td>233</td>\n",
              "      <td>231</td>\n",
              "      <td>229</td>\n",
              "      <td>226</td>\n",
              "      <td>231</td>\n",
              "      <td>232</td>\n",
              "      <td>233</td>\n",
              "      <td>234</td>\n",
              "      <td>234</td>\n",
              "      <td>235</td>\n",
              "      <td>235</td>\n",
              "      <td>235</td>\n",
              "      <td>233</td>\n",
              "      <td>233</td>\n",
              "      <td>236</td>\n",
              "      <td>...</td>\n",
              "      <td>156</td>\n",
              "      <td>156</td>\n",
              "      <td>155</td>\n",
              "      <td>160</td>\n",
              "      <td>178</td>\n",
              "      <td>213</td>\n",
              "      <td>206</td>\n",
              "      <td>175</td>\n",
              "      <td>151</td>\n",
              "      <td>135</td>\n",
              "      <td>127</td>\n",
              "      <td>161</td>\n",
              "      <td>166</td>\n",
              "      <td>169</td>\n",
              "      <td>180</td>\n",
              "      <td>182</td>\n",
              "      <td>184</td>\n",
              "      <td>185</td>\n",
              "      <td>191</td>\n",
              "      <td>186</td>\n",
              "      <td>182</td>\n",
              "      <td>182</td>\n",
              "      <td>181</td>\n",
              "      <td>178</td>\n",
              "      <td>177</td>\n",
              "      <td>187</td>\n",
              "      <td>181</td>\n",
              "      <td>174</td>\n",
              "      <td>174</td>\n",
              "      <td>175</td>\n",
              "      <td>174</td>\n",
              "      <td>170</td>\n",
              "      <td>171</td>\n",
              "      <td>172</td>\n",
              "      <td>191</td>\n",
              "      <td>220</td>\n",
              "      <td>193</td>\n",
              "      <td>143</td>\n",
              "      <td>138</td>\n",
              "      <td>0</td>\n",
              "    </tr>\n",
              "  </tbody>\n",
              "</table>\n",
              "<p>5 rows × 786 columns</p>\n",
              "</div>"
            ],
            "text/plain": [
              "   Unnamed: 0  146  180  182  176  ...  100.4  104.12  109.5  111.7  class\n",
              "0           0   91  134   38   83  ...     60      58     50     47      0\n",
              "1           1  200  201  202  202  ...    102     100     98     96      0\n",
              "2           2  111  111  154  203  ...    143     144    142    141      0\n",
              "3           3   46   58   65  111  ...    104     103    102    101      0\n",
              "4           4  231  232  233  234  ...    220     193    143    138      0\n",
              "\n",
              "[5 rows x 786 columns]"
            ]
          },
          "metadata": {
            "tags": []
          },
          "execution_count": 4
        }
      ]
    },
    {
      "cell_type": "code",
      "metadata": {
        "id": "ncppnDy-CPtd"
      },
      "source": [
        "from tensorflow import keras\r\n",
        "from tensorflow.keras.models import Sequential\r\n",
        "from tensorflow.keras.layers import Dense, Dropout, Flatten\r\n",
        "from tensorflow.keras.layers import Conv2D, MaxPooling2D\r\n",
        "import numpy as np\r\n",
        "import pandas as pd\r\n",
        "import matplotlib.pyplot as plt\r\n",
        "import seaborn as sns\r\n",
        "from sklearn.preprocessing import scale\r\n",
        "from sklearn.model_selection import train_test_split\r\n",
        "from PIL import Image\r\n",
        "from google.colab import files"
      ],
      "execution_count": 5,
      "outputs": []
    },
    {
      "cell_type": "code",
      "metadata": {
        "colab": {
          "base_uri": "https://localhost:8080/"
        },
        "id": "_yS7Ix4ICeF1",
        "outputId": "1e137515-ff82-48bc-8347-c919d70df2f9"
      },
      "source": [
        "data.shape"
      ],
      "execution_count": 8,
      "outputs": [
        {
          "output_type": "execute_result",
          "data": {
            "text/plain": [
              "(4979, 785)"
            ]
          },
          "metadata": {
            "tags": []
          },
          "execution_count": 8
        }
      ]
    },
    {
      "cell_type": "code",
      "metadata": {
        "id": "133REN81CnGn"
      },
      "source": [
        "del data['Unnamed: 0']"
      ],
      "execution_count": 7,
      "outputs": []
    },
    {
      "cell_type": "code",
      "metadata": {
        "colab": {
          "base_uri": "https://localhost:8080/",
          "height": 350
        },
        "id": "tFPXOHc1CzZJ",
        "outputId": "9b6069ee-ffee-4b3a-e558-382333886da8"
      },
      "source": [
        "sns.countplot(data['class'],palette = 'icefire')"
      ],
      "execution_count": 9,
      "outputs": [
        {
          "output_type": "stream",
          "text": [
            "/usr/local/lib/python3.7/dist-packages/seaborn/_decorators.py:43: FutureWarning: Pass the following variable as a keyword arg: x. From version 0.12, the only valid positional argument will be `data`, and passing other arguments without an explicit keyword will result in an error or misinterpretation.\n",
            "  FutureWarning\n"
          ],
          "name": "stderr"
        },
        {
          "output_type": "execute_result",
          "data": {
            "text/plain": [
              "<matplotlib.axes._subplots.AxesSubplot at 0x7fc502e28150>"
            ]
          },
          "metadata": {
            "tags": []
          },
          "execution_count": 9
        },
        {
          "output_type": "display_data",
          "data": {
            "image/png": "[encoded data removed]",
            "text/plain": [
              "<Figure size 432x288 with 1 Axes>"
            ]
          },
          "metadata": {
            "tags": [],
            "needs_background": "light"
          }
        }
      ]
    },
    {
      "cell_type": "code",
      "metadata": {
        "colab": {
          "base_uri": "https://localhost:8080/",
          "height": 298
        },
        "id": "jUD7YINqDDbU",
        "outputId": "3cb4558f-d833-4aa0-fb4b-7fde2888bda5"
      },
      "source": [
        "one = data.iloc[0, 1:]\r\n",
        "one = one.values.reshape(28,28)\r\n",
        "plt.imshow(one, cmap=plt.get_cmap('gray'))\r\n",
        "plt.title(\"Image 1\")"
      ],
      "execution_count": 10,
      "outputs": [
        {
          "output_type": "execute_result",
          "data": {
            "text/plain": [
              "Text(0.5, 1.0, 'Image 1')"
            ]
          },
          "metadata": {
            "tags": []
          },
          "execution_count": 10
        },
        {
          "output_type": "display_data",
          "data": {
            "image/png": "[encoded data removed]",
            "text/plain": [
              "<Figure size 432x288 with 1 Axes>"
            ]
          },
          "metadata": {
            "tags": [],
            "needs_background": "light"
          }
        }
      ]
    },
    {
      "cell_type": "code",
      "metadata": {
        "id": "jlKXW3PIDRgN"
      },
      "source": [
        "X=data.drop(\"class\",axis=1)\r\n",
        "y=data['class']"
      ],
      "execution_count": 11,
      "outputs": []
    },
    {
      "cell_type": "code",
      "metadata": {
        "id": "F9dMU-DjElVB"
      },
      "source": [
        "X_scaled=scale(X)"
      ],
      "execution_count": 12,
      "outputs": []
    },
    {
      "cell_type": "code",
      "metadata": {
        "id": "ozjbL1_ADjmE"
      },
      "source": [
        "X_train, X_test, y_train, y_test = train_test_split(X_scaled, y, test_size = 0.2, random_state = 42)"
      ],
      "execution_count": 13,
      "outputs": []
    },
    {
      "cell_type": "code",
      "metadata": {
        "colab": {
          "base_uri": "https://localhost:8080/"
        },
        "id": "xr_SLD4962EB",
        "outputId": "1396bedb-8b78-4684-e9bf-c824e22ef414"
      },
      "source": [
        "X_train.shape"
      ],
      "execution_count": 14,
      "outputs": [
        {
          "output_type": "execute_result",
          "data": {
            "text/plain": [
              "(3983, 784)"
            ]
          },
          "metadata": {
            "tags": []
          },
          "execution_count": 14
        }
      ]
    },
    {
      "cell_type": "code",
      "metadata": {
        "colab": {
          "base_uri": "https://localhost:8080/"
        },
        "id": "n9sAKHyp66mP",
        "outputId": "aeffa6f5-3156-422e-c6d1-82b09bfd0cfc"
      },
      "source": [
        "X_test.shape"
      ],
      "execution_count": 15,
      "outputs": [
        {
          "output_type": "execute_result",
          "data": {
            "text/plain": [
              "(996, 784)"
            ]
          },
          "metadata": {
            "tags": []
          },
          "execution_count": 15
        }
      ]
    },
    {
      "cell_type": "markdown",
      "metadata": {
        "id": "q_WQYR0Dhv9n"
      },
      "source": [
        "## Building CNN (Convolution Neural Network)"
      ]
    },
    {
      "cell_type": "code",
      "metadata": {
        "id": "LuvSFW4zDt9y"
      },
      "source": [
        "batch_size = 512\r\n",
        "num_classes = 2\r\n",
        "epochs = 1\r\n",
        "img_rows, img_cols = 28, 28\r\n",
        "X_train = X_train.reshape(3983, 28,28,1)\r\n",
        "X_test = X_test.reshape(996, 28,28,1)"
      ],
      "execution_count": 16,
      "outputs": []
    },
    {
      "cell_type": "code",
      "metadata": {
        "colab": {
          "base_uri": "https://localhost:8080/"
        },
        "id": "nKBw5Qz7EO3P",
        "outputId": "3586b28b-cf07-4102-fca7-938e16de9462"
      },
      "source": [
        "X_train.shape"
      ],
      "execution_count": 17,
      "outputs": [
        {
          "output_type": "execute_result",
          "data": {
            "text/plain": [
              "(3983, 28, 28, 1)"
            ]
          },
          "metadata": {
            "tags": []
          },
          "execution_count": 17
        }
      ]
    },
    {
      "cell_type": "code",
      "metadata": {
        "colab": {
          "base_uri": "https://localhost:8080/"
        },
        "id": "G0CQzziDEQQX",
        "outputId": "e42422ca-95c8-4caf-e83a-e52f2bae302d"
      },
      "source": [
        "X_test.shape"
      ],
      "execution_count": 18,
      "outputs": [
        {
          "output_type": "execute_result",
          "data": {
            "text/plain": [
              "(996, 28, 28, 1)"
            ]
          },
          "metadata": {
            "tags": []
          },
          "execution_count": 18
        }
      ]
    },
    {
      "cell_type": "code",
      "metadata": {
        "colab": {
          "base_uri": "https://localhost:8080/"
        },
        "id": "k4CiMB7IES79",
        "outputId": "eb94c542-26b0-4b62-9660-930a444a7306"
      },
      "source": [
        "print(X_train.shape[0], 'train samples')\r\n",
        "print(X_test.shape[0], 'test samples')\r\n",
        "y_train = keras.utils.to_categorical(y_train, num_classes)\r\n",
        "y_test = keras.utils.to_categorical(y_test, num_classes)"
      ],
      "execution_count": 19,
      "outputs": [
        {
          "output_type": "stream",
          "text": [
            "3983 train samples\n",
            "996 test samples\n"
          ],
          "name": "stdout"
        }
      ]
    },
    {
      "cell_type": "code",
      "metadata": {
        "colab": {
          "base_uri": "https://localhost:8080/"
        },
        "id": "RPpAmKGvHL2a",
        "outputId": "c29ad196-89cb-4e4e-ba98-1310d2f62c95"
      },
      "source": [
        "y_train"
      ],
      "execution_count": 20,
      "outputs": [
        {
          "output_type": "execute_result",
          "data": {
            "text/plain": [
              "array([[0., 1.],\n",
              "       [1., 0.],\n",
              "       [0., 1.],\n",
              "       ...,\n",
              "       [0., 1.],\n",
              "       [0., 1.],\n",
              "       [1., 0.]], dtype=float32)"
            ]
          },
          "metadata": {
            "tags": []
          },
          "execution_count": 20
        }
      ]
    },
    {
      "cell_type": "code",
      "metadata": {
        "id": "7Ickv81CFFZI"
      },
      "source": [
        "model = Sequential()\r\n",
        "model.add(Conv2D(30, (5, 5), input_shape=(28, 28, 1), activation='relu'))\r\n",
        "model.add(MaxPooling2D())\r\n",
        "model.add(Conv2D(15, (3, 3), activation='relu'))\r\n",
        "model.add(MaxPooling2D())\r\n",
        "model.add(Dropout(0.2))\r\n",
        "model.add(Flatten())\r\n",
        "model.add(Dense(128, activation='relu'))\r\n",
        "model.add(Dense(50, activation='relu'))\r\n",
        "model.add(Dense(num_classes, activation='softmax'))\r\n",
        "model.compile(loss='categorical_crossentropy', optimizer='adam', metrics=['accuracy'])"
      ],
      "execution_count": 21,
      "outputs": []
    },
    {
      "cell_type": "code",
      "metadata": {
        "colab": {
          "base_uri": "https://localhost:8080/"
        },
        "id": "LgdEUKue7C5W",
        "outputId": "0603d019-8629-4088-af8a-e13c1faeab3d"
      },
      "source": [
        "history=model.fit(X_train, y_train, validation_data=(X_test, y_test), epochs=15, batch_size=200)"
      ],
      "execution_count": 23,
      "outputs": [
        {
          "output_type": "stream",
          "text": [
            "Epoch 1/15\n",
            "20/20 [==============================] - 2s 118ms/step - loss: 0.1550 - accuracy: 0.9405 - val_loss: 0.2194 - val_accuracy: 0.9267\n",
            "Epoch 2/15\n",
            "20/20 [==============================] - 2s 115ms/step - loss: 0.1460 - accuracy: 0.9410 - val_loss: 0.2216 - val_accuracy: 0.9217\n",
            "Epoch 3/15\n",
            "20/20 [==============================] - 2s 115ms/step - loss: 0.1488 - accuracy: 0.9425 - val_loss: 0.2163 - val_accuracy: 0.9287\n",
            "Epoch 4/15\n",
            "20/20 [==============================] - 2s 114ms/step - loss: 0.1341 - accuracy: 0.9488 - val_loss: 0.2044 - val_accuracy: 0.9287\n",
            "Epoch 5/15\n",
            "20/20 [==============================] - 2s 114ms/step - loss: 0.1135 - accuracy: 0.9553 - val_loss: 0.2850 - val_accuracy: 0.8986\n",
            "Epoch 6/15\n",
            "20/20 [==============================] - 2s 114ms/step - loss: 0.1107 - accuracy: 0.9578 - val_loss: 0.2132 - val_accuracy: 0.9257\n",
            "Epoch 7/15\n",
            "20/20 [==============================] - 2s 114ms/step - loss: 0.1014 - accuracy: 0.9623 - val_loss: 0.2122 - val_accuracy: 0.9287\n",
            "Epoch 8/15\n",
            "20/20 [==============================] - 2s 113ms/step - loss: 0.0924 - accuracy: 0.9638 - val_loss: 0.2160 - val_accuracy: 0.9307\n",
            "Epoch 9/15\n",
            "20/20 [==============================] - 2s 113ms/step - loss: 0.0916 - accuracy: 0.9681 - val_loss: 0.2508 - val_accuracy: 0.9147\n",
            "Epoch 10/15\n",
            "20/20 [==============================] - 2s 113ms/step - loss: 0.0841 - accuracy: 0.9659 - val_loss: 0.2079 - val_accuracy: 0.9297\n",
            "Epoch 11/15\n",
            "20/20 [==============================] - 2s 113ms/step - loss: 0.0725 - accuracy: 0.9736 - val_loss: 0.2014 - val_accuracy: 0.9307\n",
            "Epoch 12/15\n",
            "20/20 [==============================] - 2s 115ms/step - loss: 0.0683 - accuracy: 0.9767 - val_loss: 0.2119 - val_accuracy: 0.9297\n",
            "Epoch 13/15\n",
            "20/20 [==============================] - 2s 114ms/step - loss: 0.0604 - accuracy: 0.9787 - val_loss: 0.2134 - val_accuracy: 0.9267\n",
            "Epoch 14/15\n",
            "20/20 [==============================] - 2s 113ms/step - loss: 0.0714 - accuracy: 0.9744 - val_loss: 0.2190 - val_accuracy: 0.9237\n",
            "Epoch 15/15\n",
            "20/20 [==============================] - 2s 113ms/step - loss: 0.0614 - accuracy: 0.9794 - val_loss: 0.2217 - val_accuracy: 0.9307\n"
          ],
          "name": "stdout"
        }
      ]
    },
    {
      "cell_type": "code",
      "metadata": {
        "colab": {
          "base_uri": "https://localhost:8080/",
          "height": 265
        },
        "id": "UAo-3i8JIZ3o",
        "outputId": "d19e45b0-6ef7-4f0d-c0a6-b2ddcf524b9c"
      },
      "source": [
        "# Plot the loss and accuracy curves for training and validation \r\n",
        "fig, ax = plt.subplots(2,1)\r\n",
        "ax[0].plot(history.history['loss'], color='b', label=\"Training loss\")\r\n",
        "ax[0].plot(history.history['val_loss'], color='r', label=\"validation loss\",axes =ax[0])\r\n",
        "legend = ax[0].legend(loc='best', shadow=True)\r\n",
        "\r\n",
        "ax[1].plot(history.history['accuracy'], color='b', label=\"Training accuracy\")\r\n",
        "ax[1].plot(history.history['val_accuracy'], color='r',label=\"Validation accuracy\")\r\n",
        "legend = ax[1].legend(loc='best', shadow=True)"
      ],
      "execution_count": 26,
      "outputs": [
        {
          "output_type": "display_data",
          "data": {
            "image/png": "[encoded data removed]",
            "text/plain": [
              "<Figure size 432x288 with 2 Axes>"
            ]
          },
          "metadata": {
            "tags": [],
            "needs_background": "light"
          }
        }
      ]
    },
    {
      "cell_type": "code",
      "metadata": {
        "id": "KS0s38Et-a9q",
        "colab": {
          "base_uri": "https://localhost:8080/"
        },
        "outputId": "45f6c5ac-5aa5-4dc0-f732-1dbc5f48c887"
      },
      "source": [
        "score = model.evaluate(X_test, y_test, verbose=0)\r\n",
        "result=[]\r\n",
        "print('Test loss:', score[0])\r\n",
        "print('Test accuracy:', score[1])\r\n",
        "result.append(score[1])"
      ],
      "execution_count": 27,
      "outputs": [
        {
          "output_type": "stream",
          "text": [
            "Test loss: 0.2216741293668747\n",
            "Test accuracy: 0.9307228922843933\n"
          ],
          "name": "stdout"
        }
      ]
    },
    {
      "cell_type": "code",
      "metadata": {
        "colab": {
          "base_uri": "https://localhost:8080/",
          "height": 311
        },
        "id": "fZVmfXMV-S_q",
        "outputId": "61226f4e-8d2e-48c5-9649-338afe7bc451"
      },
      "source": [
        "from sklearn.metrics import confusion_matrix\r\n",
        "import itertools\r\n",
        "def plot_confusion_matrix(cm, classes,\r\n",
        "                          normalize=False,\r\n",
        "                          title='Confusion matrix',\r\n",
        "                          cmap=plt.cm.Blues):\r\n",
        "    \"\"\"\r\n",
        "    This function prints and plots the confusion matrix.\r\n",
        "    Normalization can be applied by setting `normalize=True`.\r\n",
        "    \"\"\"\r\n",
        "    plt.imshow(cm, interpolation='nearest', cmap=cmap)\r\n",
        "    plt.title(title)\r\n",
        "    plt.colorbar()\r\n",
        "    tick_marks = np.arange(len(classes))\r\n",
        "    plt.xticks(tick_marks, classes, rotation=45)\r\n",
        "    plt.yticks(tick_marks, classes)\r\n",
        "\r\n",
        "    if normalize:\r\n",
        "        cm = cm.astype('float') / cm.sum(axis=1)[:, np.newaxis]\r\n",
        "\r\n",
        "    thresh = cm.max() / 2.\r\n",
        "    for i, j in itertools.product(range(cm.shape[0]), range(cm.shape[1])):\r\n",
        "        plt.text(j, i, cm[i, j],\r\n",
        "                 horizontalalignment=\"center\",\r\n",
        "                 color=\"white\" if cm[i, j] > thresh else \"black\")\r\n",
        "\r\n",
        "    plt.tight_layout()\r\n",
        "    plt.ylabel('True label')\r\n",
        "    plt.xlabel('Predicted label')\r\n",
        "\r\n",
        "# Predict the values from the validation dataset\r\n",
        "Y_pred = model.predict(X_test)\r\n",
        "# Convert predictions classes to one hot vectors \r\n",
        "Y_pred_classes = np.argmax(Y_pred,axis = 1) \r\n",
        "# Convert validation observations to one hot vectors\r\n",
        "Y_true = np.argmax(y_test,axis = 1) \r\n",
        "# compute the confusion matrix\r\n",
        "confusion_mtx = confusion_matrix(Y_true, Y_pred_classes) \r\n",
        "# plot the confusion matrix\r\n",
        "plot_confusion_matrix(confusion_mtx, classes = range(2))"
      ],
      "execution_count": 31,
      "outputs": [
        {
          "output_type": "display_data",
          "data": {
            "image/png": "[encoded data removed]",
            "text/plain": [
              "<Figure size 432x288 with 2 Axes>"
            ]
          },
          "metadata": {
            "tags": [],
            "needs_background": "light"
          }
        }
      ]
    },
    {
      "cell_type": "code",
      "metadata": {
        "colab": {
          "base_uri": "https://localhost:8080/"
        },
        "id": "ptH3q0sGNIXG",
        "outputId": "e1945bf3-14e3-433e-ea99-8720ae418c30"
      },
      "source": [
        "model.summary()"
      ],
      "execution_count": 32,
      "outputs": [
        {
          "output_type": "stream",
          "text": [
            "Model: \"sequential\"\n",
            "_________________________________________________________________\n",
            "Layer (type)                 Output Shape              Param #   \n",
            "=================================================================\n",
            "conv2d (Conv2D)              (None, 24, 24, 30)        780       \n",
            "_________________________________________________________________\n",
            "max_pooling2d (MaxPooling2D) (None, 12, 12, 30)        0         \n",
            "_________________________________________________________________\n",
            "conv2d_1 (Conv2D)            (None, 10, 10, 15)        4065      \n",
            "_________________________________________________________________\n",
            "max_pooling2d_1 (MaxPooling2 (None, 5, 5, 15)          0         \n",
            "_________________________________________________________________\n",
            "dropout (Dropout)            (None, 5, 5, 15)          0         \n",
            "_________________________________________________________________\n",
            "flatten (Flatten)            (None, 375)               0         \n",
            "_________________________________________________________________\n",
            "dense (Dense)                (None, 128)               48128     \n",
            "_________________________________________________________________\n",
            "dense_1 (Dense)              (None, 50)                6450      \n",
            "_________________________________________________________________\n",
            "dense_2 (Dense)              (None, 2)                 102       \n",
            "=================================================================\n",
            "Total params: 59,525\n",
            "Trainable params: 59,525\n",
            "Non-trainable params: 0\n",
            "_________________________________________________________________\n"
          ],
          "name": "stdout"
        }
      ]
    },
    {
      "cell_type": "code",
      "metadata": {
        "id": "9ZUUGVim7GAC"
      },
      "source": [
        "\r\n"
      ],
      "execution_count": 32,
      "outputs": []
    },
    {
      "cell_type": "code",
      "metadata": {
        "id": "CxWkogY-IPWJ"
      },
      "source": [
        ""
      ],
      "execution_count": 32,
      "outputs": []
    },
    {
      "cell_type": "markdown",
      "metadata": {
        "id": "oLGR8BJhhpT7"
      },
      "source": [
        "## Adaboost Classifier"
      ]
    },
    {
      "cell_type": "code",
      "metadata": {
        "id": "iu3GYADYMtqB"
      },
      "source": [
        "from sklearn.ensemble import AdaBoostClassifier\r\n",
        "\r\n",
        "from sklearn import metrics\r\n"
      ],
      "execution_count": 33,
      "outputs": []
    },
    {
      "cell_type": "code",
      "metadata": {
        "id": "-Dsud0BwUbqR"
      },
      "source": [
        "X_train, X_test, y_train, y_test = train_test_split(X, y, test_size=0.2) # 70% training and 30% test\r\n"
      ],
      "execution_count": 34,
      "outputs": []
    },
    {
      "cell_type": "code",
      "metadata": {
        "id": "QYaGIteaUkUj"
      },
      "source": [
        "# Create adaboost classifer object\r\n",
        "abc = AdaBoostClassifier(n_estimators=50,\r\n",
        "                         learning_rate=1)\r\n",
        "# Train Adaboost Classifer\r\n",
        "model2 = abc.fit(X_train, y_train)\r\n",
        "\r\n",
        "#Predict the response for test dataset\r\n",
        "y_pred = model2.predict(X_test)"
      ],
      "execution_count": 35,
      "outputs": []
    },
    {
      "cell_type": "code",
      "metadata": {
        "colab": {
          "base_uri": "https://localhost:8080/"
        },
        "id": "mSFQIOIcUnyn",
        "outputId": "8dd1205b-32c2-4d4c-e7f2-2599757c33b2"
      },
      "source": [
        "# Model Accuracy, how often is the classifier correct?\r\n",
        "print(\"Accuracy:\",metrics.accuracy_score(y_test, y_pred))\r\n",
        "result.append(metrics.accuracy_score(y_test, y_pred))"
      ],
      "execution_count": 36,
      "outputs": [
        {
          "output_type": "stream",
          "text": [
            "Accuracy: 0.6847389558232931\n"
          ],
          "name": "stdout"
        }
      ]
    },
    {
      "cell_type": "markdown",
      "metadata": {
        "id": "5O_Jk2B0hk0Y"
      },
      "source": [
        "## XgBoost Classifier"
      ]
    },
    {
      "cell_type": "code",
      "metadata": {
        "id": "IpSTHG4-aQ1s"
      },
      "source": [
        "import xgboost as xgb\r\n",
        "from sklearn.metrics import mean_squared_error\r\n",
        "from xgboost import XGBClassifier\r\n",
        "from sklearn.metrics import accuracy_score"
      ],
      "execution_count": 37,
      "outputs": []
    },
    {
      "cell_type": "code",
      "metadata": {
        "colab": {
          "base_uri": "https://localhost:8080/"
        },
        "id": "drkO2BP7efYK",
        "outputId": "8c54ab93-03a2-4b62-8c38-285df939fcc3"
      },
      "source": [
        "model3 = XGBClassifier()\r\n",
        "model3.fit(X_train, y_train)\r\n",
        "y_pred = model3.predict(X_test)\r\n",
        "accuracy = accuracy_score(y_test, y_pred)\r\n",
        "print(\"Accuracy: %.2f%%\" % (accuracy * 100.0))\r\n",
        "result.append(accuracy)"
      ],
      "execution_count": 38,
      "outputs": [
        {
          "output_type": "stream",
          "text": [
            "Accuracy: 78.11%\n"
          ],
          "name": "stdout"
        }
      ]
    },
    {
      "cell_type": "markdown",
      "metadata": {
        "id": "AYGCq5DuhdhU"
      },
      "source": [
        "## Gradient Boosting Classifier"
      ]
    },
    {
      "cell_type": "code",
      "metadata": {
        "colab": {
          "base_uri": "https://localhost:8080/"
        },
        "id": "epYUaH35e_Rk",
        "outputId": "55345ae2-18f1-4f75-c9ef-7d7bba0bd066"
      },
      "source": [
        "from sklearn.ensemble import GradientBoostingClassifier\r\n",
        "model4 = GradientBoostingClassifier(n_estimators=100, learning_rate=1.0, max_depth=1)\r\n",
        "model4.fit(X_train, y_train)\r\n",
        "y_pred = model4.predict(X_test)\r\n",
        "accuracy = accuracy_score(y_test, y_pred)\r\n",
        "print(\"Accuracy: %.2f%%\" % (accuracy * 100.0))\r\n",
        "result.append(accuracy)"
      ],
      "execution_count": 39,
      "outputs": [
        {
          "output_type": "stream",
          "text": [
            "Accuracy: 70.78%\n"
          ],
          "name": "stdout"
        }
      ]
    },
    {
      "cell_type": "markdown",
      "metadata": {
        "id": "tnEXwuuHhWdH"
      },
      "source": [
        "# Comparison of all the models with accuracy"
      ]
    },
    {
      "cell_type": "code",
      "metadata": {
        "id": "03_seSichIxh",
        "colab": {
          "base_uri": "https://localhost:8080/",
          "height": 311
        },
        "outputId": "9b79e3f4-1bd9-4dfd-9eea-a86cf30f705f"
      },
      "source": [
        "import matplotlib.pyplot as plt\r\n",
        "names=[\"CNN\",\"Adaboost\",\"Xgboost\",\"Gradientboost\"]\r\n",
        "fig = plt.figure()\r\n",
        "fig.suptitle('Algorithm Comparison')\r\n",
        "plt.bar(names,result)\r\n"
      ],
      "execution_count": 43,
      "outputs": [
        {
          "output_type": "execute_result",
          "data": {
            "text/plain": [
              "<BarContainer object of 4 artists>"
            ]
          },
          "metadata": {
            "tags": []
          },
          "execution_count": 43
        },
        {
          "output_type": "display_data",
          "data": {
            "image/png": "[encoded data removed]",
            "text/plain": [
              "<Figure size 432x288 with 1 Axes>"
            ]
          },
          "metadata": {
            "tags": [],
            "needs_background": "light"
          }
        }
      ]
    },
    {
      "cell_type": "markdown",
      "metadata": {
        "id": "1jlbA8JlKdli"
      },
      "source": [
        "## Saving the CNN Model "
      ]
    },
    {
      "cell_type": "code",
      "metadata": {
        "id": "40ncdcEVKiS-"
      },
      "source": [
        "!pip install -q pyyaml h5py  # Required to save models in HDF5 format"
      ],
      "execution_count": 44,
      "outputs": []
    },
    {
      "cell_type": "code",
      "metadata": {
        "id": "pvC7DQgfNCq_"
      },
      "source": [
        "model.save(\"model.h5\")"
      ],
      "execution_count": 45,
      "outputs": []
    },
    {
      "cell_type": "code",
      "metadata": {
        "colab": {
          "base_uri": "https://localhost:8080/"
        },
        "id": "6kcU_nsQNp_f",
        "outputId": "ea16aaa5-4046-4f91-8d52-d81bac558dfa"
      },
      "source": [
        "!ls"
      ],
      "execution_count": 46,
      "outputs": [
        {
          "output_type": "stream",
          "text": [
            "00027.jpg  data1.csv  model.h5\tna.jpg\t     sample_data\n",
            "1790.jpg   data.csv   na1.jpg\tresized.jpg  ta1.jpg\n"
          ],
          "name": "stdout"
        }
      ]
    },
    {
      "cell_type": "markdown",
      "metadata": {
        "id": "88CG4-U4DRIH"
      },
      "source": [
        "### Testing on Images to check the prediction"
      ]
    },
    {
      "cell_type": "code",
      "metadata": {
        "id": "YmOAq_iBDXKW"
      },
      "source": [
        "## Loading the Model\r\n",
        "model = keras.models.load_model(\"model.h5\")"
      ],
      "execution_count": 47,
      "outputs": []
    },
    {
      "cell_type": "code",
      "metadata": {
        "colab": {
          "base_uri": "https://localhost:8080/"
        },
        "id": "jCrxWRkWN0hl",
        "outputId": "bfdd4f73-afa3-487a-fab5-684bda65ad38"
      },
      "source": [
        "model.summary()"
      ],
      "execution_count": 48,
      "outputs": [
        {
          "output_type": "stream",
          "text": [
            "Model: \"sequential\"\n",
            "_________________________________________________________________\n",
            "Layer (type)                 Output Shape              Param #   \n",
            "=================================================================\n",
            "conv2d (Conv2D)              (None, 24, 24, 30)        780       \n",
            "_________________________________________________________________\n",
            "max_pooling2d (MaxPooling2D) (None, 12, 12, 30)        0         \n",
            "_________________________________________________________________\n",
            "conv2d_1 (Conv2D)            (None, 10, 10, 15)        4065      \n",
            "_________________________________________________________________\n",
            "max_pooling2d_1 (MaxPooling2 (None, 5, 5, 15)          0         \n",
            "_________________________________________________________________\n",
            "dropout (Dropout)            (None, 5, 5, 15)          0         \n",
            "_________________________________________________________________\n",
            "flatten (Flatten)            (None, 375)               0         \n",
            "_________________________________________________________________\n",
            "dense (Dense)                (None, 128)               48128     \n",
            "_________________________________________________________________\n",
            "dense_1 (Dense)              (None, 50)                6450      \n",
            "_________________________________________________________________\n",
            "dense_2 (Dense)              (None, 2)                 102       \n",
            "=================================================================\n",
            "Total params: 59,525\n",
            "Trainable params: 59,525\n",
            "Non-trainable params: 0\n",
            "_________________________________________________________________\n"
          ],
          "name": "stdout"
        }
      ]
    },
    {
      "cell_type": "markdown",
      "metadata": {
        "id": "YmrY21WUOi8V"
      },
      "source": [
        "Download the model file to use in your local program"
      ]
    },
    {
      "cell_type": "code",
      "metadata": {
        "colab": {
          "base_uri": "https://localhost:8080/",
          "height": 34
        },
        "id": "LkITP4YwOdHE",
        "outputId": "05fac227-1368-4033-d43a-c74518f66f24"
      },
      "source": [
        "\r\n",
        "files.download('model.h5')"
      ],
      "execution_count": 49,
      "outputs": [
        {
          "output_type": "display_data",
          "data": {
            "application/javascript": [
              "\n",
              "    async function download(id, filename, size) {\n",
              "      if (!google.colab.kernel.accessAllowed) {\n",
              "        return;\n",
              "      }\n",
              "      const div = document.createElement('div');\n",
              "      const label = document.createElement('label');\n",
              "      label.textContent = `Downloading \"${filename}\": `;\n",
              "      div.appendChild(label);\n",
              "      const progress = document.createElement('progress');\n",
              "      progress.max = size;\n",
              "      div.appendChild(progress);\n",
              "      document.body.appendChild(div);\n",
              "\n",
              "      const buffers = [];\n",
              "      let downloaded = 0;\n",
              "\n",
              "      const channel = await google.colab.kernel.comms.open(id);\n",
              "      // Send a message to notify the kernel that we're ready.\n",
              "      channel.send({})\n",
              "\n",
              "      for await (const message of channel.messages) {\n",
              "        // Send a message to notify the kernel that we're ready.\n",
              "        channel.send({})\n",
              "        if (message.buffers) {\n",
              "          for (const buffer of message.buffers) {\n",
              "            buffers.push(buffer);\n",
              "            downloaded += buffer.byteLength;\n",
              "            progress.value = downloaded;\n",
              "          }\n",
              "        }\n",
              "      }\n",
              "      const blob = new Blob(buffers, {type: 'application/binary'});\n",
              "      const a = document.createElement('a');\n",
              "      a.href = window.URL.createObjectURL(blob);\n",
              "      a.download = filename;\n",
              "      div.appendChild(a);\n",
              "      a.click();\n",
              "      div.remove();\n",
              "    }\n",
              "  "
            ],
            "text/plain": [
              "<IPython.core.display.Javascript object>"
            ]
          },
          "metadata": {
            "tags": []
          }
        },
        {
          "output_type": "display_data",
          "data": {
            "application/javascript": [
              "download(\"download_7382f3ce-f590-4713-8b30-f186cdd6f595\", \"model.h5\", 763240)"
            ],
            "text/plain": [
              "<IPython.core.display.Javascript object>"
            ]
          },
          "metadata": {
            "tags": []
          }
        }
      ]
    },
    {
      "cell_type": "markdown",
      "metadata": {
        "id": "HLrVu4s4OAAx"
      },
      "source": [
        "Loading the Image to test"
      ]
    },
    {
      "cell_type": "code",
      "metadata": {
        "colab": {
          "resources": {
            "http://localhost:8080/nbextensions/google.colab/files.js": {
              "data": "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",
              "ok": true,
              "headers": [
                [
                  "content-type",
                  "application/javascript"
                ]
              ],
              "status": 200,
              "status_text": ""
            }
          },
          "base_uri": "https://localhost:8080/",
          "height": 361
        },
        "id": "CNvSc3oTN3yf",
        "outputId": "baf09f8f-8a8d-4d04-ed77-eeefc4a7d416"
      },
      "source": [
        "## Uploading any file in google colab\r\n",
        "\r\n",
        "files.upload()"
      ],
      "execution_count": 50,
      "outputs": [
        {
          "output_type": "display_data",
          "data": {
            "text/html": [
              "\n",
              "     <input type=\"file\" id=\"files-f211195e-95fc-48b1-93cf-35263e4c8d1d\" name=\"files[]\" multiple disabled\n",
              "        style=\"border:none\" />\n",
              "     <output id=\"result-f211195e-95fc-48b1-93cf-35263e4c8d1d\">\n",
              "      Upload widget is only available when the cell has been executed in the\n",
              "      current browser session. Please rerun this cell to enable.\n",
              "      </output>\n",
              "      <script src=\"/nbextensions/google.colab/files.js\"></script> "
            ],
            "text/plain": [
              "<IPython.core.display.HTML object>"
            ]
          },
          "metadata": {
            "tags": []
          }
        },
        {
          "output_type": "error",
          "ename": "KeyboardInterrupt",
          "evalue": "ignored",
          "traceback": [
            "\u001b[0;31m---------------------------------------------------------------------------\u001b[0m",
            "\u001b[0;31mKeyboardInterrupt\u001b[0m                         Traceback (most recent call last)",
            "\u001b[0;32m<ipython-input-50-46a69c540de9>\u001b[0m in \u001b[0;36m<module>\u001b[0;34m()\u001b[0m\n\u001b[1;32m      1\u001b[0m \u001b[0;31m## Uploading any file in google colab\u001b[0m\u001b[0;34m\u001b[0m\u001b[0;34m\u001b[0m\u001b[0;34m\u001b[0m\u001b[0m\n\u001b[1;32m      2\u001b[0m \u001b[0;34m\u001b[0m\u001b[0m\n\u001b[0;32m----> 3\u001b[0;31m \u001b[0mfiles\u001b[0m\u001b[0;34m.\u001b[0m\u001b[0mupload\u001b[0m\u001b[0;34m(\u001b[0m\u001b[0;34m)\u001b[0m\u001b[0;34m\u001b[0m\u001b[0;34m\u001b[0m\u001b[0m\n\u001b[0m",
            "\u001b[0;32m/usr/local/lib/python3.7/dist-packages/google/colab/files.py\u001b[0m in \u001b[0;36mupload\u001b[0;34m()\u001b[0m\n\u001b[1;32m     62\u001b[0m   result = _output.eval_js(\n\u001b[1;32m     63\u001b[0m       'google.colab._files._uploadFiles(\"{input_id}\", \"{output_id}\")'.format(\n\u001b[0;32m---> 64\u001b[0;31m           input_id=input_id, output_id=output_id))\n\u001b[0m\u001b[1;32m     65\u001b[0m   \u001b[0mfiles\u001b[0m \u001b[0;34m=\u001b[0m \u001b[0m_collections\u001b[0m\u001b[0;34m.\u001b[0m\u001b[0mdefaultdict\u001b[0m\u001b[0;34m(\u001b[0m\u001b[0m_six\u001b[0m\u001b[0;34m.\u001b[0m\u001b[0mbinary_type\u001b[0m\u001b[0;34m)\u001b[0m\u001b[0;34m\u001b[0m\u001b[0;34m\u001b[0m\u001b[0m\n\u001b[1;32m     66\u001b[0m   \u001b[0;31m# Mapping from original filename to filename as saved locally.\u001b[0m\u001b[0;34m\u001b[0m\u001b[0;34m\u001b[0m\u001b[0;34m\u001b[0m\u001b[0m\n",
            "\u001b[0;32m/usr/local/lib/python3.7/dist-packages/google/colab/output/_js.py\u001b[0m in \u001b[0;36meval_js\u001b[0;34m(script, ignore_result, timeout_sec)\u001b[0m\n\u001b[1;32m     38\u001b[0m   \u001b[0;32mif\u001b[0m \u001b[0mignore_result\u001b[0m\u001b[0;34m:\u001b[0m\u001b[0;34m\u001b[0m\u001b[0;34m\u001b[0m\u001b[0m\n\u001b[1;32m     39\u001b[0m     \u001b[0;32mreturn\u001b[0m\u001b[0;34m\u001b[0m\u001b[0;34m\u001b[0m\u001b[0m\n\u001b[0;32m---> 40\u001b[0;31m   \u001b[0;32mreturn\u001b[0m \u001b[0m_message\u001b[0m\u001b[0;34m.\u001b[0m\u001b[0mread_reply_from_input\u001b[0m\u001b[0;34m(\u001b[0m\u001b[0mrequest_id\u001b[0m\u001b[0;34m,\u001b[0m \u001b[0mtimeout_sec\u001b[0m\u001b[0;34m)\u001b[0m\u001b[0;34m\u001b[0m\u001b[0;34m\u001b[0m\u001b[0m\n\u001b[0m\u001b[1;32m     41\u001b[0m \u001b[0;34m\u001b[0m\u001b[0m\n\u001b[1;32m     42\u001b[0m \u001b[0;34m\u001b[0m\u001b[0m\n",
            "\u001b[0;32m/usr/local/lib/python3.7/dist-packages/google/colab/_message.py\u001b[0m in \u001b[0;36mread_reply_from_input\u001b[0;34m(message_id, timeout_sec)\u001b[0m\n\u001b[1;32m     99\u001b[0m     \u001b[0mreply\u001b[0m \u001b[0;34m=\u001b[0m \u001b[0m_read_next_input_message\u001b[0m\u001b[0;34m(\u001b[0m\u001b[0;34m)\u001b[0m\u001b[0;34m\u001b[0m\u001b[0;34m\u001b[0m\u001b[0m\n\u001b[1;32m    100\u001b[0m     \u001b[0;32mif\u001b[0m \u001b[0mreply\u001b[0m \u001b[0;34m==\u001b[0m \u001b[0m_NOT_READY\u001b[0m \u001b[0;32mor\u001b[0m \u001b[0;32mnot\u001b[0m \u001b[0misinstance\u001b[0m\u001b[0;34m(\u001b[0m\u001b[0mreply\u001b[0m\u001b[0;34m,\u001b[0m \u001b[0mdict\u001b[0m\u001b[0;34m)\u001b[0m\u001b[0;34m:\u001b[0m\u001b[0;34m\u001b[0m\u001b[0;34m\u001b[0m\u001b[0m\n\u001b[0;32m--> 101\u001b[0;31m       \u001b[0mtime\u001b[0m\u001b[0;34m.\u001b[0m\u001b[0msleep\u001b[0m\u001b[0;34m(\u001b[0m\u001b[0;36m0.025\u001b[0m\u001b[0;34m)\u001b[0m\u001b[0;34m\u001b[0m\u001b[0;34m\u001b[0m\u001b[0m\n\u001b[0m\u001b[1;32m    102\u001b[0m       \u001b[0;32mcontinue\u001b[0m\u001b[0;34m\u001b[0m\u001b[0;34m\u001b[0m\u001b[0m\n\u001b[1;32m    103\u001b[0m     if (reply.get('type') == 'colab_reply' and\n",
            "\u001b[0;31mKeyboardInterrupt\u001b[0m: "
          ]
        }
      ]
    },
    {
      "cell_type": "markdown",
      "metadata": {
        "id": "A2tzVPE9OuHX"
      },
      "source": [
        "### Preprocessing the images to make it data ready for providing it for classification"
      ]
    },
    {
      "cell_type": "code",
      "metadata": {
        "id": "6GYcTAaBOVFg"
      },
      "source": [
        "from PIL import Image\r\n",
        "import numpy as np\r\n",
        "import sys\r\n",
        "import os\r\n",
        "import csv\r\n",
        "#Import required Image library\r\n",
        "\r\n",
        "\r\n",
        " ## If you want to display any image here just uncomment the display code and provide the filename as input\r\n",
        "#from IPython.display import Image \r\n",
        " \r\n",
        "## display(imgname)\r\n",
        "def resizeimg(file):\r\n",
        "\r\n",
        "  #Create an Image Object from an Image\r\n",
        "  im = Image.open(file)\r\n",
        "\r\n",
        "  #Display actual image\r\n",
        "  ##im.show()\r\n",
        "\r\n",
        "  #Make the new image half the width and half the height of the original image\r\n",
        "  resized_im = im.resize((round(im.size[0]*28/im.size[0]), round(im.size[1]*28/im.size[1])))\r\n",
        "  return resized_im\r\n",
        "\r\n",
        "def preprocess(file):\r\n",
        "    img_file = file\r\n",
        "    #img_file = resizeimg(file)\r\n",
        "    # img_file.show()\r\n",
        "\r\n",
        "    # get original image parameters...\r\n",
        "    width, height = img_file.size\r\n",
        "   \r\n",
        "    format = img_file.format\r\n",
        "    mode = img_file.mode\r\n",
        "\r\n",
        "    # Make image Greyscale\r\n",
        "    img_grey = img_file.convert('L')\r\n",
        "    #img_grey.save('result.png')\r\n",
        "    #img_grey.show()\r\n",
        "\r\n",
        "    # Save Greyscale values\r\n",
        "    value = np.asarray(img_grey.getdata(), dtype=np.int).reshape((img_grey.size[1], img_grey.size[0]))\r\n",
        "    value = value.flatten()\r\n",
        "    return value\r\n"
      ],
      "execution_count": 51,
      "outputs": []
    },
    {
      "cell_type": "code",
      "metadata": {
        "id": "SmqmO0uJRLuN"
      },
      "source": [
        "inputimg=resizeimg(\"00027.jpg\")\r\n",
        "i=preprocess(inputimg)\r\n"
      ],
      "execution_count": 52,
      "outputs": []
    },
    {
      "cell_type": "code",
      "metadata": {
        "id": "yobNe5fDWWj9"
      },
      "source": [
        "i=pd.DataFrame(i)\r\n",
        "\r\n",
        "i=scale(i)"
      ],
      "execution_count": 53,
      "outputs": []
    },
    {
      "cell_type": "code",
      "metadata": {
        "id": "nHsyKcFqf7u8"
      },
      "source": [
        "i = i.reshape(1, 28,28,1)"
      ],
      "execution_count": 54,
      "outputs": []
    },
    {
      "cell_type": "code",
      "metadata": {
        "colab": {
          "base_uri": "https://localhost:8080/"
        },
        "id": "0R1enChdhExf",
        "outputId": "f39410dc-219d-4b80-b181-0c315a1cfb4f"
      },
      "source": [
        "result1=model.predict_classes(i)"
      ],
      "execution_count": 55,
      "outputs": [
        {
          "output_type": "stream",
          "text": [
            "/usr/local/lib/python3.7/dist-packages/tensorflow/python/keras/engine/sequential.py:450: UserWarning: `model.predict_classes()` is deprecated and will be removed after 2021-01-01. Please use instead:* `np.argmax(model.predict(x), axis=-1)`,   if your model does multi-class classification   (e.g. if it uses a `softmax` last-layer activation).* `(model.predict(x) > 0.5).astype(\"int32\")`,   if your model does binary classification   (e.g. if it uses a `sigmoid` last-layer activation).\n",
            "  warnings.warn('`model.predict_classes()` is deprecated and '\n"
          ],
          "name": "stderr"
        }
      ]
    },
    {
      "cell_type": "code",
      "metadata": {
        "colab": {
          "base_uri": "https://localhost:8080/"
        },
        "id": "jwYI6cXIiV69",
        "outputId": "bb3ece98-4a96-45d2-ff62-43874a50f347"
      },
      "source": [
        "result1"
      ],
      "execution_count": 56,
      "outputs": [
        {
          "output_type": "execute_result",
          "data": {
            "text/plain": [
              "array([0])"
            ]
          },
          "metadata": {
            "tags": []
          },
          "execution_count": 56
        }
      ]
    },
    {
      "cell_type": "code",
      "metadata": {
        "colab": {
          "base_uri": "https://localhost:8080/"
        },
        "id": "R8MD54pRhGux",
        "outputId": "72faa66a-01e0-464e-f251-db06de287f9b"
      },
      "source": [
        "if(result1[0]==0):\r\n",
        "  print(\"Not Accident\")\r\n",
        "else :\r\n",
        "  print(\"Accident\")"
      ],
      "execution_count": 57,
      "outputs": [
        {
          "output_type": "stream",
          "text": [
            "Not Accident\n"
          ],
          "name": "stdout"
        }
      ]
    },
    {
      "cell_type": "code",
      "metadata": {
        "id": "2eExbVYThK-t"
      },
      "source": [
        ""
      ],
      "execution_count": 57,
      "outputs": []
    }
  ]
}